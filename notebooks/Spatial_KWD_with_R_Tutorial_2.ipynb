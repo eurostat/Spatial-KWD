{
  "nbformat": 4,
  "nbformat_minor": 0,
  "metadata": {
    "colab": {
      "name": "Spatial-KWD_running_with_R.ipynb",
      "provenance": []
    },
    "kernelspec": {
      "name": "ir",
      "display_name": "R"
    }
  },
  "cells": [
    {
      "cell_type": "markdown",
      "metadata": {
        "id": "eHzoYzu7mAkg"
      },
      "source": [
        "# Using the Spatial-KWD with R\n",
        "This notebook shows how to use the Spatial-KWD library within the [R programming language](https://www.r-project.org/).\n",
        "\n",
        "To run this notebook in Google Colab, please, be sure that the from the menu of this notebook, under *Runtime->Change Runtime type->..* the runtime is set to **R** so that you can execute the **R** scripts of this notebook."
      ]
    },
    {
      "cell_type": "markdown",
      "metadata": {
        "id": "X7fYx5ISmoXA"
      },
      "source": [
        "### Prerequisities\n",
        "The only requirement for compiling the Spatial-KWD library is the R package [Rcpp](https://cran.r-project.org/web/packages/Rcpp/index.html), which can be installed with the following command."
      ]
    },
    {
      "cell_type": "code",
      "metadata": {
        "id": "Rwyg5o-0k6a5"
      },
      "source": [
        "install.packages(\"Rcpp\", repos='http://cran.us.r-project.org')"
      ],
      "execution_count": null,
      "outputs": []
    },
    {
      "cell_type": "markdown",
      "metadata": {
        "id": "cQc4hdJZm4et"
      },
      "source": [
        "### Download and install the R wrapper for S-KWD\n",
        "At the moment, the most recent snapshot of the [Spatial KWD library](https://github.com/eurostat/Spatial-KWD) is stored on GitHub, and it can installed with the following command:"
      ]
    },
    {
      "cell_type": "code",
      "metadata": {
        "id": "dWCBM9SnlD2w"
      },
      "source": [
        "install.packages(\"https://github.com/eurostat/Spatial-KWD/releases/download/v0.1.1-alpha/SpatialKWD_0.1.1.tar.gz\", repos=NULL)"
      ],
      "execution_count": null,
      "outputs": []
    },
    {
      "cell_type": "markdown",
      "metadata": {
        "id": "ABE9TT_LO6N9"
      },
      "source": [
        "## Example 1: Using a `data.frame`\n",
        "Once the Spatial-KWD library is installed, you can run the following scrpit to compute the KW/distance between a pair of histograms stored in a `data.frame` with at least four columns:\n",
        "\n",
        "* **x**: a column with the integer coordinates\n",
        "* **y**: a column with the integer coordinates\n",
        "* **h1**: the weights of the first histogram\n",
        "* **h2**: the weights of the second histogram\n",
        "\n",
        "The four columns must all contain the same number of elements."
      ]
    },
    {
      "cell_type": "code",
      "metadata": {
        "id": "ZMQDI__dPmCI"
      },
      "source": [
        "# @fileoverview Copyright (c) 2020, Stefano Gualandi,\n",
        "#               via Ferrata, 1, I-27100, Pavia, Italy\n",
        "#\n",
        "# @author stefano.gualandi@gmail.com (Stefano Gualandi)\n",
        "\n",
        "library(SpatialKWD)\n",
        "\n",
        "# Random coordinates\n",
        "N = 900\n",
        "x <- as.integer(runif(N, 0, 31))\n",
        "y <- as.integer(runif(N, 0, 31))\n",
        "\n",
        "# Random weights\n",
        "h1 <- runif(N, 0, 1)\n",
        "h2 <- runif(N, 0, 1)\n",
        "\n",
        "# Data frame with four columns named: \"x\", \"y\", \"h1\", \"h2\"\n",
        "df <- data.frame(x, y, h1, h2)\n",
        "\n",
        "# Compute distance\n",
        "print(\"Test with data frame:\")\n",
        "d <- distanceDF(df, 3)\n",
        "print(d)\n",
        "\n",
        "\n",
        "# Data table\n",
        "install.packages(\"data.table\", repos='http://cran.us.r-project.org')\n",
        "require(data.table)\n",
        "# The table needs to have at least the four columns: \"x\", \"y\", \"h1\", \"h2\"\n",
        "dt <- data.table(x=x, y=y, h1=h1, h2=h2)\n",
        "\n",
        "# Compute distance\n",
        "print(\"Test with data table:\")\n",
        "d <- distanceDF(dt, 3)\n",
        "print(d)\n",
        "\n",
        "\n",
        "# Increasing the second value, it increase the precision of \n",
        "# the computed distance, but it can slow down the runtime speed\n",
        "print(\"Benchmarking precision versus speed:\")\n",
        "start_time <- Sys.time()\n",
        "d <- distanceDF(dt, 4)\n",
        "print(c(d, Sys.time()-start_time))\n",
        "\n",
        "start_time <- Sys.time()\n",
        "d <- distanceDF(dt, 5)\n",
        "print(c(d, Sys.time()-start_time))\n",
        "\n",
        "start_time <- Sys.time()\n",
        "d <- distanceDF(dt, 20)\n",
        "print(c(d, Sys.time()-start_time))\n",
        "\n",
        "start_time <- Sys.time()\n",
        "d <- distanceDF(dt, 30)\n",
        "print(c(d, Sys.time()-start_time))"
      ],
      "execution_count": null,
      "outputs": []
    },
    {
      "cell_type": "markdown",
      "metadata": {
        "id": "yevAQPlHnLsz"
      },
      "source": [
        "## Example 2: Histograms with different support points\n",
        "Once the Spatial-KWD library is installed, you can run the following basic script, to measure the pairwise distances among three 2-dimensional histograms.\n",
        "\n",
        "Please, read the comments for very basic docuemntation."
      ]
    },
    {
      "cell_type": "code",
      "metadata": {
        "id": "E8PZkCZdlsfi"
      },
      "source": [
        "library(SpatialKWD)\n",
        "\n",
        "# Define first histogram\n",
        "a <- new(SpatialKWD::Histogram2D)\n",
        "# Add at position (0,0) a unit of mass\n",
        "a$add(0, 0, 1)\n",
        "# Normalize the histogram\n",
        "a$normalize()\n",
        "\n",
        "# Define second histogram\n",
        "b <- new(SpatialKWD::Histogram2D)\n",
        "# Add at position (1,1) two units of mass\n",
        "b$add(1, 1, 2)\n",
        "# Normalize the histogram\n",
        "b$normalize()\n",
        "\n",
        "# Define third histogram\n",
        "c <- new(SpatialKWD::Histogram2D)\n",
        "# Add at position (1,0) and (0,1) an half unit of mass\n",
        "c$add(1, 0, 0.5)\n",
        "c$add(0, 1, 0.5)\n",
        "# Add at position (5,5) a unit of mass\n",
        "c$add(5, 5, 1)\n",
        "# Normalize the histogram\n",
        "c$normalize()\n",
        "\n",
        "# Define a solver and compute the distance \n",
        "# Kantorovich-Wasserstein distance of order 1\n",
        "# with L_2 as ground distance\n",
        "s <- new(SpatialKWD::Solver)\n",
        "\n",
        "print(sprintf(\"d(a,b) = %f\", s$distance(a, b, 3)))\n",
        "print(sprintf(\"d(a,c) = %f\", s$distance(a, c, 3)))\n",
        "print(sprintf(\"d(b,c) = %f\", s$distance(b, c, 3)))"
      ],
      "execution_count": null,
      "outputs": []
    },
    {
      "cell_type": "markdown",
      "metadata": {
        "id": "s3aCOet_QThn"
      },
      "source": [
        "### Feedback\n",
        "Please, for any comments, contact the author of the Spatial-KWD library."
      ]
    }
  ]
}