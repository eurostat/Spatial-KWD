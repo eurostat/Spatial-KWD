{
  "nbformat": 4,
  "nbformat_minor": 0,
  "metadata": {
    "colab": {
      "name": "Spatial_KWD_with_R_Tutorial_2.ipynb",
      "provenance": []
    },
    "kernelspec": {
      "name": "ir",
      "display_name": "R"
    }
  },
  "cells": [
    {
      "cell_type": "markdown",
      "metadata": {
        "id": "eHzoYzu7mAkg"
      },
      "source": [
        "# Using the Spatial-KWD with R\n",
        "This notebook shows how to use the Spatial-KWD library within the [R programming language](https://www.r-project.org/).\n",
        "\n",
        "To run this notebook in Google Colab, please, be sure that the from the menu of this notebook, under *Runtime->Change Runtime type->..* the runtime is set to **R** so that you can execute the **R** scripts of this notebook.\n",
        "\n",
        "The source code of the library is freely available on GitHub at [Eurostat/Spatial-KWD](https://github.com/eurostat/Spatial-KWD).\n"
      ]
    },
    {
      "cell_type": "markdown",
      "metadata": {
        "id": "X7fYx5ISmoXA"
      },
      "source": [
        "### Prerequisities\n",
        "The only requirement for compiling the Spatial-KWD library is the R package [Rcpp](https://cran.r-project.org/web/packages/Rcpp/index.html), which can be installed with the following command."
      ]
    },
    {
      "cell_type": "code",
      "metadata": {
        "id": "Rwyg5o-0k6a5",
        "outputId": "f6b2ce2f-f592-429b-b9bc-53398213a0f7",
        "colab": {
          "base_uri": "https://localhost:8080/"
        }
      },
      "source": [
        "install.packages(\"Rcpp\", repos='http://cran.us.r-project.org')"
      ],
      "execution_count": 1,
      "outputs": [
        {
          "output_type": "stream",
          "text": [
            "Installing package into ‘/usr/local/lib/R/site-library’\n",
            "(as ‘lib’ is unspecified)\n",
            "\n"
          ],
          "name": "stderr"
        }
      ]
    },
    {
      "cell_type": "markdown",
      "metadata": {
        "id": "cQc4hdJZm4et"
      },
      "source": [
        "### Install the R library from CRAN\n",
        "The official release of **SpatialKWD** is available from [CRAN](https://cran.r-project.org/web/checks/check_results_SpatialKWD.html), and it can installed with the following command:"
      ]
    },
    {
      "cell_type": "code",
      "metadata": {
        "id": "dWCBM9SnlD2w",
        "outputId": "2fa234c5-fd6b-4b96-c4c7-7720e5609474",
        "colab": {
          "base_uri": "https://localhost:8080/"
        }
      },
      "source": [
        "install.packages(\"SpatialKWD\")"
      ],
      "execution_count": 2,
      "outputs": [
        {
          "output_type": "stream",
          "text": [
            "Installing package into ‘/usr/local/lib/R/site-library’\n",
            "(as ‘lib’ is unspecified)\n",
            "\n"
          ],
          "name": "stderr"
        }
      ]
    },
    {
      "cell_type": "markdown",
      "metadata": {
        "id": "ABE9TT_LO6N9"
      },
      "source": [
        "## Example: Passing input data via matrices\n",
        "Once you have installed the Spatial-KWD library, you can run the following script to compute the KW-distance between a pair of histograms stored in two matrices.\n",
        "\n",
        "The main helper functions are:\n",
        "\n",
        "* `compareOneToOne`\n",
        "* `compareOneToMany`\n",
        "* `compareAll`\n",
        "* `focusaArea`\n",
        "\n",
        "To see the manual run `help(compareOneToOne)`. Note that on Colab the manual is not correctly formatted, but if you use the **SpatialKWD** library in RStudio, everything will be as expected.\n"
      ]
    },
    {
      "cell_type": "code",
      "metadata": {
        "id": "jPqrrJIcFqc7"
      },
      "source": [
        "library(SpatialKWD)\n",
        "help(compareOneToOne)"
      ],
      "execution_count": 3,
      "outputs": []
    },
    {
      "cell_type": "code",
      "metadata": {
        "id": "ZMQDI__dPmCI",
        "outputId": "953893e4-82c7-4d1c-cf87-eb7e8aa3a7ca",
        "colab": {
          "base_uri": "https://localhost:8080/"
        }
      },
      "source": [
        "# Random coordinates\n",
        "N = 900\n",
        "Xs <- 5*as.integer(runif(N, 0, 31))\n",
        "Ys <- 5*as.integer(runif(N, 0, 31))\n",
        "coordinates <- matrix(c(Xs, Ys), ncol=2)\n",
        "\n",
        "# Random weights\n",
        "test1 <- matrix(runif(2*N, 0, 1), ncol=2)\n",
        "m <- 3\n",
        "test2 <- matrix(runif((m+1)*N, 0, 1), ncol=(m+1))\n",
        "test3 <- matrix(runif(m*N, 0, 1), ncol=m)\n",
        "\n",
        "# Compute distance\n",
        "print(\"Compare one-to-one with exact algorithm:\")\n",
        "d <- compareOneToOne(coordinates, Weights=test1, method=\"exact\", recode=TRUE, verbosity = \"info\")\n",
        "cat(\"runtime:\", d$runtime, \" distance:\", d$distance, \" nodes:\", d$nodes, \" arcs:\", d$arcs, \"\\n\")\n",
        "\n",
        "print(\"Compare one-to-one with approximate algorithm:\")\n",
        "d <- compareOneToOne(coordinates, Weights=test1, L=2, recode=TRUE)\n",
        "cat(\"L: 2, runtime:\", d$runtime, \" distance:\", d$distance, \" nodes:\", d$nodes, \" arcs:\", d$arcs, \"\\n\")\n",
        "\n",
        "d <- compareOneToOne(coordinates, Weights=test1, L=3)\n",
        "cat(\"L: 3 runtime:\", d$runtime, \" distance:\", d$distance, \"\\n\")"
      ],
      "execution_count": 4,
      "outputs": [
        {
          "output_type": "stream",
          "text": [
            "[1] \"Compare one-to-one with exact algorithm:\"\n",
            "CompareOneToOne, Solution method: EXACT\n",
            "WARNING: the Xs input coordinates are not consecutives integers.\n",
            "WARNING: the Ys input coordinates are not consecutives integers.\n",
            "INFO: Recoding the input coordinates to consecutive integers.\n",
            "Internal parameters: exact mincostflow colgen info 14400.000 0.000001 true 0 179769313486231570814527423731704356798070567525844996598917476803157260780028538760589558632766878171540458953514382464234321326889464182768467546703537516986049910576551282076245490090389328944075868508455133942304583236903222948165808559332123348274797826204144723168738177180919299881250404026184124858368.0, 1\n",
            "INFO: change <timelimit> to 14400.000000\n",
            "INFO: change <verbosity> to info\n",
            "INFO: change <opt_tolerance> to 0.000001\n",
            "runtime: 0.166  distance: 0.6038872  nodes: 958  arcs: 1900 \n",
            "[1] \"Compare one-to-one with approximate algorithm:\"\n",
            "CompareOneToOne, Solution method: APPROX\n",
            "WARNING: the Xs input coordinates are not consecutives integers.\n",
            "WARNING: the Ys input coordinates are not consecutives integers.\n",
            "INFO: Recoding the input coordinates to consecutive integers.\n",
            "INFO: change <timelimit> to 14400.000000\n",
            "INFO: change <verbosity> to silent\n",
            "INFO: change <opt_tolerance> to 0.000001\n",
            "L: 2, runtime: 0.009  distance: 0.6076943  nodes: 958  arcs: 1368 \n",
            "CompareOneToOne, Solution method: APPROX\n",
            "WARNING: the Xs input coordinates are not consecutives integers.\n",
            "WARNING: the Ys input coordinates are not consecutives integers.\n",
            "INFO: Recoding the input coordinates to consecutive integers.\n",
            "INFO: change <timelimit> to 14400.000000\n",
            "INFO: change <verbosity> to silent\n",
            "INFO: change <opt_tolerance> to 0.000001\n",
            "L: 3 runtime: 0.011  distance: 0.6045155 \n"
          ],
          "name": "stdout"
        }
      ]
    },
    {
      "cell_type": "markdown",
      "metadata": {
        "id": "s3aCOet_QThn"
      },
      "source": [
        "### Feedback\n",
        "Please, for any comments, contact the author of the Spatial-KWD library.\n",
        "\n",
        "### References\n",
        "\n",
        "[1] Bassetti F., Gualandi S., Veneroni M. (2018): [**On the computation of Kantorovich-Wasserstein distances between 2D-histograms by uncapacitated minimum cost flows**](https://epubs.siam.org/doi/abs/10.1137/19M1261195). SIAM J. Optim., 30(3), 2441–2469, 2020. Preprint on arXiv: [1804.00445](https://arxiv.org/abs/1804.00445)."
      ]
    }
  ]
}
