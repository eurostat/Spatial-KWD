{
  "nbformat": 4,
  "nbformat_minor": 0,
  "metadata": {
    "colab": {
      "name": "Spatial-KWD_running_with_R.ipynb",
      "provenance": []
    },
    "kernelspec": {
      "name": "ir",
      "display_name": "R"
    }
  },
  "cells": [
    {
      "cell_type": "markdown",
      "metadata": {
        "id": "eHzoYzu7mAkg"
      },
      "source": [
        "# Using Spatial-KWD with R\n",
        "This notebook shows how to use the Spatial-KWD library within the [R programming language](https://www.r-project.org/).\n",
        "\n",
        "To run this notebook in Google Colab, please, be sure that the from the menu of this notebook, under *\"Runtime->Change Runtime type->\"* the runtime is set to **R** so that you can execute **R** code."
      ]
    },
    {
      "cell_type": "markdown",
      "metadata": {
        "id": "X7fYx5ISmoXA"
      },
      "source": [
        "### Prerequisities\n",
        "The only prerequisity for compiling the Spatial-KWD library is [Rcpp](https://cran.r-project.org/web/packages/Rcpp/index.html), which can be installed with the following command."
      ]
    },
    {
      "cell_type": "code",
      "metadata": {
        "id": "Rwyg5o-0k6a5"
      },
      "source": [
        "install.packages(\"Rcpp\")"
      ],
      "execution_count": null,
      "outputs": []
    },
    {
      "cell_type": "markdown",
      "metadata": {
        "id": "cQc4hdJZm4et"
      },
      "source": [
        "### Download and install the R wrapper for S-KWD\n",
        "At the moment, the most recent snapshot of the [Spatial KWD library](https://github.com/eurostat/Spatial-KWD) is stored on my personal academic web page, and it can installed with the following command."
      ]
    },
    {
      "cell_type": "code",
      "metadata": {
        "id": "dWCBM9SnlD2w"
      },
      "source": [
        "install.packages(\"http://mate.unipv.it/gualandi/SpatialKWD_0.1.0.tar.gz\", repos=NULL)"
      ],
      "execution_count": null,
      "outputs": []
    },
    {
      "cell_type": "markdown",
      "metadata": {
        "id": "yevAQPlHnLsz"
      },
      "source": [
        "### Basic Example\n",
        "Once the S-KWD library is installed, you can run the following basic script, to measure the pairwise distances among three 2-dimensional histograms.\n",
        "\n",
        "Please, read the comments for very basic docuemntation."
      ]
    },
    {
      "cell_type": "code",
      "metadata": {
        "colab": {
          "base_uri": "https://localhost:8080/"
        },
        "id": "E8PZkCZdlsfi",
        "outputId": "f50a45bd-2140-4286-a622-e5a75f5e13c4"
      },
      "source": [
        "library(SpatialKWD)\n",
        "\n",
        "# Define first histogram\n",
        "a <- new(SpatialKWD::Histogram2D)\n",
        "# Add at position (0,0) a unit of mass\n",
        "a$add(0, 0, 1)\n",
        "# Normalize the histogram\n",
        "a$normalize()\n",
        "\n",
        "# Define second histogram\n",
        "b <- new(SpatialKWD::Histogram2D)\n",
        "# Add at position (1,1) two units of mass\n",
        "b$add(1, 1, 2)\n",
        "# Normalize the histogram\n",
        "b$normalize()\n",
        "\n",
        "# Define third histogram\n",
        "c <- new(SpatialKWD::Histogram2D)\n",
        "# Add at position (1,0) and (0,1) an half unit of mass\n",
        "c$add(1, 0, 0.5)\n",
        "c$add(0, 1, 0.5)\n",
        "# Add at position (5,5) a unit of mass\n",
        "c$add(5, 5, 1)\n",
        "# Normalize the histogram\n",
        "c$normalize()\n",
        "\n",
        "# Define a solver and compute the distance \n",
        "# Kantorovich-Wasserstein distance of order 1\n",
        "# with L_2 as ground distance\n",
        "s <- new(SpatialKWD::Solver)\n",
        "\n",
        "print(sprintf(\"d(a,b) = %f\", s$distance(a, b, 3)))\n",
        "print(sprintf(\"d(a,c) = %f\", s$distance(a, c, 3)))\n",
        "print(sprintf(\"d(b,c) = %f\", s$distance(b, c, 3)))"
      ],
      "execution_count": 3,
      "outputs": [
        {
          "output_type": "stream",
          "text": [
            "[1] \"d(a,b) = 1.414214\"\n",
            "[1] \"d(a,c) = 4.035534\"\n",
            "[1] \"d(b,c) = 2.828427\"\n"
          ],
          "name": "stdout"
        }
      ]
    }
  ]
}