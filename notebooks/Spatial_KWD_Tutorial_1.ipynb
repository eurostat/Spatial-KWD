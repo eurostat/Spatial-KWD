{
  "nbformat": 4,
  "nbformat_minor": 0,
  "metadata": {
    "colab": {
      "name": "Spatial-KWD_Tutorial_1.ipynb",
      "provenance": []
    },
    "kernelspec": {
      "name": "python3",
      "display_name": "Python 3"
    }
  },
  "cells": [
    {
      "cell_type": "markdown",
      "metadata": {
        "id": "FYRJWGhMhTDa"
      },
      "source": [
        "# Introduction: Testing the Spatial-KWD library\n",
        "In this notebook, we present a short tutorial on the use of the python wrapper for the **Spatial-KWD** software library.\n",
        "\n",
        "The goal of this notebook is to show how to use Spatial-KWD to compute the distance between pairs of 2-dimensional histograms.\n",
        "\n",
        "The only requirements for running this notebook are:\n",
        "\n",
        "1.   A recent version of [Cython](https://cython.org/) (>= v0.23) installed on your PC.\n",
        "2.   To Download the source code of the Spatial-KWD python wrapper from [EUROSTAT public repository](https://github.com/eurostat/Spatial-KWD/tree/main/wrappers/python).\n",
        "\n",
        "\n",
        "\n"
      ]
    },
    {
      "cell_type": "code",
      "metadata": {
        "id": "V7Inhh5vp91E"
      },
      "source": [
        "import shutil\n",
        "import sys\n",
        "\n",
        "# Install Cython\n",
        "if not shutil.which(\"cython\"):\n",
        "  !pip install -q cython\n",
        "  assert(shutil.which(\"cython\"))\n",
        "\n",
        "# Get the Spatial-KWD source files\n",
        "if \"google.colab\" in sys.modules:\n",
        "  !wget -N -q \"https://mate.unipv.it/gualandi/s-kwd.zip\"\n",
        "  !unzip -o -q s-kwd.zip"
      ],
      "execution_count": 5,
      "outputs": []
    },
    {
      "cell_type": "markdown",
      "metadata": {
        "id": "sLCwnwOhtmfn"
      },
      "source": [
        "Once you have the requirements ready, you can compile the library, with the following command"
      ]
    },
    {
      "cell_type": "code",
      "metadata": {
        "id": "UIH_6yeMtsoQ",
        "outputId": "d434aa99-c254-4627-c734-b23887c0d203",
        "colab": {
          "base_uri": "https://localhost:8080/"
        }
      },
      "source": [
        "!python setup.py build_ext --inplace"
      ],
      "execution_count": 6,
      "outputs": [
        {
          "output_type": "stream",
          "text": [
            "Compiling histogram2D.pyx because it changed.\n",
            "[1/1] Cythonizing histogram2D.pyx\n",
            "/usr/local/lib/python3.6/dist-packages/Cython/Compiler/Main.py:369: FutureWarning: Cython directive 'language_level' not set, using 2 for now (Py2). This will change in a later release! File: /content/histogram2D.pyx\n",
            "  tree = Parsing.p_module(s, pxd, full_module_name)\n",
            "/usr/lib/python3.6/distutils/dist.py:261: UserWarning: Unknown distribution option: 'compiler_directives'\n",
            "  warnings.warn(msg)\n",
            "running build_ext\n",
            "building 'KWD' extension\n",
            "creating build\n",
            "creating build/temp.linux-x86_64-3.6\n",
            "x86_64-linux-gnu-gcc -pthread -DNDEBUG -g -fwrapv -O2 -Wall -g -fstack-protector-strong -Wformat -Werror=format-security -Wdate-time -D_FORTIFY_SOURCE=2 -fPIC -I. -I/usr/include/python3.6m -c histogram2D.cpp -o build/temp.linux-x86_64-3.6/histogram2D.o -Wno-unused-function -std=c++14\n",
            "In file included from \u001b[01m\u001b[KKWD_Histogram2D.h:42:0\u001b[m\u001b[K,\n",
            "                 from \u001b[01m\u001b[KKWD_Histogram2D.cpp:9\u001b[m\u001b[K,\n",
            "                 from \u001b[01m\u001b[Khistogram2D.cpp:647\u001b[m\u001b[K:\n",
            "\u001b[01m\u001b[KKWD_NetSimplex.h:461:0:\u001b[m\u001b[K \u001b[01;35m\u001b[Kwarning: \u001b[m\u001b[Kignoring #pragma omp parallel [\u001b[01;35m\u001b[K-Wunknown-pragmas\u001b[m\u001b[K]\n",
            " #pragma omp parallel sections num_threads(2)\n",
            " \n",
            "\u001b[01m\u001b[KKWD_NetSimplex.h:463:0:\u001b[m\u001b[K \u001b[01;35m\u001b[Kwarning: \u001b[m\u001b[Kignoring #pragma omp section [\u001b[01;35m\u001b[K-Wunknown-pragmas\u001b[m\u001b[K]\n",
            " #pragma omp section\n",
            " \n",
            "\u001b[01m\u001b[KKWD_NetSimplex.h:469:0:\u001b[m\u001b[K \u001b[01;35m\u001b[Kwarning: \u001b[m\u001b[Kignoring #pragma omp section [\u001b[01;35m\u001b[K-Wunknown-pragmas\u001b[m\u001b[K]\n",
            " #pragma omp section\n",
            " \n",
            "x86_64-linux-gnu-gcc -pthread -DNDEBUG -g -fwrapv -O2 -Wall -g -fstack-protector-strong -Wformat -Werror=format-security -Wdate-time -D_FORTIFY_SOURCE=2 -fPIC -I. -I/usr/include/python3.6m -c KWD_Histogram2D.cpp -o build/temp.linux-x86_64-3.6/KWD_Histogram2D.o -Wno-unused-function -std=c++14\n",
            "In file included from \u001b[01m\u001b[KKWD_Histogram2D.h:42:0\u001b[m\u001b[K,\n",
            "                 from \u001b[01m\u001b[KKWD_Histogram2D.cpp:9\u001b[m\u001b[K:\n",
            "\u001b[01m\u001b[KKWD_NetSimplex.h:461:0:\u001b[m\u001b[K \u001b[01;35m\u001b[Kwarning: \u001b[m\u001b[Kignoring #pragma omp parallel [\u001b[01;35m\u001b[K-Wunknown-pragmas\u001b[m\u001b[K]\n",
            " #pragma omp parallel sections num_threads(2)\n",
            " \n",
            "\u001b[01m\u001b[KKWD_NetSimplex.h:463:0:\u001b[m\u001b[K \u001b[01;35m\u001b[Kwarning: \u001b[m\u001b[Kignoring #pragma omp section [\u001b[01;35m\u001b[K-Wunknown-pragmas\u001b[m\u001b[K]\n",
            " #pragma omp section\n",
            " \n",
            "\u001b[01m\u001b[KKWD_NetSimplex.h:469:0:\u001b[m\u001b[K \u001b[01;35m\u001b[Kwarning: \u001b[m\u001b[Kignoring #pragma omp section [\u001b[01;35m\u001b[K-Wunknown-pragmas\u001b[m\u001b[K]\n",
            " #pragma omp section\n",
            " \n",
            "x86_64-linux-gnu-g++ -pthread -shared -Wl,-O1 -Wl,-Bsymbolic-functions -Wl,-Bsymbolic-functions -Wl,-z,relro -Wl,-Bsymbolic-functions -Wl,-z,relro -g -fstack-protector-strong -Wformat -Werror=format-security -Wdate-time -D_FORTIFY_SOURCE=2 build/temp.linux-x86_64-3.6/histogram2D.o build/temp.linux-x86_64-3.6/KWD_Histogram2D.o -o /content/KWD.cpython-36m-x86_64-linux-gnu.so\n"
          ],
          "name": "stdout"
        }
      ]
    },
    {
      "cell_type": "markdown",
      "metadata": {
        "id": "OxxziNAtixJu"
      },
      "source": [
        "### Histogram2D\n",
        "The Spatial-KWD library contains a main class of type `Histogram2D` that is used to store a 2-dimensional histogram.\n",
        "Note that the histogram does not need to be *rectangular*, but it can be defined by specifing the bins coordinates of the elements with a strictly positive weight.\n",
        "\n",
        "This class has three main methods:\n",
        "\n",
        "1. A standard costructor `h = Histogram2D()` \n",
        "2. A method to add a single point with positive weight: `h.add(int x, int y, double weight)`\n",
        "3. A method to *normalize* the bin weights, so that the sum of all weights is equal to 1: `h.normalize()`\n",
        "\n",
        "We now show to use this class to build three different histograms."
      ]
    },
    {
      "cell_type": "code",
      "metadata": {
        "id": "-Fdj4S7Gj0ki"
      },
      "source": [
        "from KWD import *\n",
        "\n",
        "# Define first histogram\n",
        "a = Histogram2D()\n",
        "# Add at position (0,0) a unit of mass\n",
        "a.add(0, 0, 1)\n",
        "# Normalize the histogram\n",
        "a.normalize()\n",
        "\n",
        "# Define second histogram\n",
        "b = Histogram2D()\n",
        "# Add at position (1,1) a unit of mass\n",
        "b.add(1, 1, 2)\n",
        "# Normalize the histogram\n",
        "b.normalize()"
      ],
      "execution_count": 8,
      "outputs": []
    },
    {
      "cell_type": "markdown",
      "metadata": {
        "id": "Ansds9PzuIMu"
      },
      "source": [
        "These two dummy histograms have a single bin with positive weight. The second histogram is normalized and the effect is to reduce its weight to 1.\n",
        "\n",
        "Then, we add a third histogram having three non empty bins. Please, note that we are not using a regular grid to define this histogram. You are free to position the points at any pair of integer coordinates."
      ]
    },
    {
      "cell_type": "code",
      "metadata": {
        "id": "ZqNDc5VMuDWD"
      },
      "source": [
        "# Define third histogram\n",
        "c = Histogram2D()\n",
        "# Add at position (1,0) and (0,1) an half unit of mass\n",
        "c.add(1, 0, 0.5)\n",
        "c.add(0, 1, 0.5)\n",
        "# Add at position (5,5) a unit of mass\n",
        "c.add(5, 5, 1)\n",
        "# Normalize the histogram\n",
        "c.normalize()"
      ],
      "execution_count": 9,
      "outputs": []
    },
    {
      "cell_type": "markdown",
      "metadata": {
        "id": "9pWC-fWowOUn"
      },
      "source": [
        "After normalizarion, the weights of the three bins become 0.25, 0.25, 0.5.\n",
        "\n",
        "We show in the next section how to compute the distances among these three histograms. "
      ]
    },
    {
      "cell_type": "markdown",
      "metadata": {
        "id": "A-Et7iPqysR4"
      },
      "source": [
        "### Using the Solver to compute hte KWD distances\n",
        "The Spatial-KWD library has another object called `Solver` which is used to configure the algorithm that computes the distance between a pair of histograms."
      ]
    },
    {
      "cell_type": "code",
      "metadata": {
        "id": "pXQJcldV0Y9G"
      },
      "source": [
        "# Create an instance of type Solver \n",
        "s = Solver()"
      ],
      "execution_count": 11,
      "outputs": []
    },
    {
      "cell_type": "markdown",
      "metadata": {
        "id": "pjQyXzME0puh"
      },
      "source": [
        "Finally we can compute the distance among the three histograms using the method `s.distance(Histogram2D h1, Histogram2D h1, L=3)`.\n",
        "The method distance first creates a cloud of points considering the union of non empty bins of the two histograms, second it computes the convex hull of all this cloud of points, and finally it computes the Kantorovich-Wasserstein distances between the two histograms using the algorithm described in [[1]](https://epubs.siam.org/doi/abs/10.1137/19M1261195).\n",
        "\n",
        "The third parameter `L` is used to specify the approximation quality of the algorithm, and it will be described in detail in the second tutorial on this library.\n"
      ]
    },
    {
      "cell_type": "code",
      "metadata": {
        "id": "mghApXgV0ux0",
        "outputId": "cbaa8b75-6183-4b44-d93b-ef136c75acfc",
        "colab": {
          "base_uri": "https://localhost:8080/"
        }
      },
      "source": [
        "print(\"d(a,b) =\", s.distance(a, b, 3))\n",
        "print(\"d(a,c) =\", s.distance(a, c, 3))\n",
        "print(\"d(b,c) =\", s.distance(b, c, 3))"
      ],
      "execution_count": 12,
      "outputs": [
        {
          "output_type": "stream",
          "text": [
            "d(a,b) = 1.4142135623730951\n",
            "d(a,c) = 4.035533905932738\n",
            "d(b,c) = 2.8284271247461903\n"
          ],
          "name": "stdout"
        }
      ]
    },
    {
      "cell_type": "markdown",
      "metadata": {
        "id": "IrpffRlo4x_2"
      },
      "source": [
        "Please, if you have any comment on this notebook or on the Spatial-KWD you can drop me an email.\n",
        "\n",
        "The source code of the library is freely available on GitHub at [Eurostat/Spatial-KWD](https://github.com/eurostat/Spatial-KWD)."
      ]
    },
    {
      "cell_type": "markdown",
      "metadata": {
        "id": "PEyCAmXo1u86"
      },
      "source": [
        "### References\n",
        "\n",
        "[1] Bassetti F., Gualandi S., Veneroni M. (2018): [**On the computation of Kantorovich-Wasserstein distances between 2D-histograms by uncapacitated minimum cost flows**](https://epubs.siam.org/doi/abs/10.1137/19M1261195). SIAM J. Optim., 30(3), 2441–2469, 2020. Preprint on arXiv: [1804.00445](https://arxiv.org/abs/1804.00445)."
      ]
    }
  ]
}