{
  "nbformat": 4,
  "nbformat_minor": 0,
  "metadata": {
    "colab": {
      "name": "Spatial-KWD_Tutorial_1.ipynb",
      "provenance": []
    },
    "kernelspec": {
      "name": "python3",
      "display_name": "Python 3"
    }
  },
  "cells": [
    {
      "cell_type": "markdown",
      "metadata": {
        "id": "FYRJWGhMhTDa"
      },
      "source": [
        "# Introduction: Testing the Spatial-KWD library\n",
        "In this notebook, we present a short tutorial on using of the python wrapper for the **Spatial-KWD** software library.\n",
        "\n",
        "This notebook aims to show how to use Spatial-KWD to compute the distance between pairs of 2-dimensional histograms.\n",
        "\n",
        "The source code of the Spatial-KWD library is available from the [EUROSTAT public repository](https://github.com/eurostat/Spatial-KWD/tree/main/wrappers/python).\n",
        "\n",
        "### Installation\n",
        "To install the Spatial-KWD library, run the following command.\n",
        "\n",
        "\n"
      ]
    },
    {
      "cell_type": "code",
      "metadata": {
        "id": "OAIhj2NHeSe9",
        "outputId": "fdc0e645-15ad-4e28-b5fe-c4c383082163",
        "colab": {
          "base_uri": "https://localhost:8080/"
        }
      },
      "source": [
        "pip install Spatial-KWD"
      ],
      "execution_count": 1,
      "outputs": [
        {
          "output_type": "stream",
          "text": [
            "Collecting Spatial-KWD\n",
            "\u001b[?25l  Downloading https://files.pythonhosted.org/packages/42/41/a6d221c4d0ff90acab1d4b968d77e80f7eeb74042cee2e8b30b314622af3/Spatial_KWD-0.4.0-cp37-cp37m-manylinux2010_x86_64.whl (1.6MB)\n",
            "\r\u001b[K     |▏                               | 10kB 15.0MB/s eta 0:00:01\r\u001b[K     |▍                               | 20kB 20.9MB/s eta 0:00:01\r\u001b[K     |▋                               | 30kB 25.1MB/s eta 0:00:01\r\u001b[K     |▉                               | 40kB 25.8MB/s eta 0:00:01\r\u001b[K     |█                               | 51kB 27.5MB/s eta 0:00:01\r\u001b[K     |█▎                              | 61kB 19.4MB/s eta 0:00:01\r\u001b[K     |█▍                              | 71kB 19.7MB/s eta 0:00:01\r\u001b[K     |█▋                              | 81kB 16.2MB/s eta 0:00:01\r\u001b[K     |█▉                              | 92kB 16.6MB/s eta 0:00:01\r\u001b[K     |██                              | 102kB 17.7MB/s eta 0:00:01\r\u001b[K     |██▎                             | 112kB 17.7MB/s eta 0:00:01\r\u001b[K     |██▌                             | 122kB 17.7MB/s eta 0:00:01\r\u001b[K     |██▊                             | 133kB 17.7MB/s eta 0:00:01\r\u001b[K     |██▉                             | 143kB 17.7MB/s eta 0:00:01\r\u001b[K     |███                             | 153kB 17.7MB/s eta 0:00:01\r\u001b[K     |███▎                            | 163kB 17.7MB/s eta 0:00:01\r\u001b[K     |███▌                            | 174kB 17.7MB/s eta 0:00:01\r\u001b[K     |███▊                            | 184kB 17.7MB/s eta 0:00:01\r\u001b[K     |████                            | 194kB 17.7MB/s eta 0:00:01\r\u001b[K     |████▏                           | 204kB 17.7MB/s eta 0:00:01\r\u001b[K     |████▎                           | 215kB 17.7MB/s eta 0:00:01\r\u001b[K     |████▌                           | 225kB 17.7MB/s eta 0:00:01\r\u001b[K     |████▊                           | 235kB 17.7MB/s eta 0:00:01\r\u001b[K     |█████                           | 245kB 17.7MB/s eta 0:00:01\r\u001b[K     |█████▏                          | 256kB 17.7MB/s eta 0:00:01\r\u001b[K     |█████▍                          | 266kB 17.7MB/s eta 0:00:01\r\u001b[K     |█████▌                          | 276kB 17.7MB/s eta 0:00:01\r\u001b[K     |█████▊                          | 286kB 17.7MB/s eta 0:00:01\r\u001b[K     |██████                          | 296kB 17.7MB/s eta 0:00:01\r\u001b[K     |██████▏                         | 307kB 17.7MB/s eta 0:00:01\r\u001b[K     |██████▍                         | 317kB 17.7MB/s eta 0:00:01\r\u001b[K     |██████▋                         | 327kB 17.7MB/s eta 0:00:01\r\u001b[K     |██████▉                         | 337kB 17.7MB/s eta 0:00:01\r\u001b[K     |███████                         | 348kB 17.7MB/s eta 0:00:01\r\u001b[K     |███████▏                        | 358kB 17.7MB/s eta 0:00:01\r\u001b[K     |███████▍                        | 368kB 17.7MB/s eta 0:00:01\r\u001b[K     |███████▋                        | 378kB 17.7MB/s eta 0:00:01\r\u001b[K     |███████▉                        | 389kB 17.7MB/s eta 0:00:01\r\u001b[K     |████████                        | 399kB 17.7MB/s eta 0:00:01\r\u001b[K     |████████▎                       | 409kB 17.7MB/s eta 0:00:01\r\u001b[K     |████████▍                       | 419kB 17.7MB/s eta 0:00:01\r\u001b[K     |████████▋                       | 430kB 17.7MB/s eta 0:00:01\r\u001b[K     |████████▉                       | 440kB 17.7MB/s eta 0:00:01\r\u001b[K     |█████████                       | 450kB 17.7MB/s eta 0:00:01\r\u001b[K     |█████████▎                      | 460kB 17.7MB/s eta 0:00:01\r\u001b[K     |█████████▌                      | 471kB 17.7MB/s eta 0:00:01\r\u001b[K     |█████████▋                      | 481kB 17.7MB/s eta 0:00:01\r\u001b[K     |█████████▉                      | 491kB 17.7MB/s eta 0:00:01\r\u001b[K     |██████████                      | 501kB 17.7MB/s eta 0:00:01\r\u001b[K     |██████████▎                     | 512kB 17.7MB/s eta 0:00:01\r\u001b[K     |██████████▌                     | 522kB 17.7MB/s eta 0:00:01\r\u001b[K     |██████████▊                     | 532kB 17.7MB/s eta 0:00:01\r\u001b[K     |███████████                     | 542kB 17.7MB/s eta 0:00:01\r\u001b[K     |███████████                     | 552kB 17.7MB/s eta 0:00:01\r\u001b[K     |███████████▎                    | 563kB 17.7MB/s eta 0:00:01\r\u001b[K     |███████████▌                    | 573kB 17.7MB/s eta 0:00:01\r\u001b[K     |███████████▊                    | 583kB 17.7MB/s eta 0:00:01\r\u001b[K     |████████████                    | 593kB 17.7MB/s eta 0:00:01\r\u001b[K     |████████████▏                   | 604kB 17.7MB/s eta 0:00:01\r\u001b[K     |████████████▍                   | 614kB 17.7MB/s eta 0:00:01\r\u001b[K     |████████████▌                   | 624kB 17.7MB/s eta 0:00:01\r\u001b[K     |████████████▊                   | 634kB 17.7MB/s eta 0:00:01\r\u001b[K     |█████████████                   | 645kB 17.7MB/s eta 0:00:01\r\u001b[K     |█████████████▏                  | 655kB 17.7MB/s eta 0:00:01\r\u001b[K     |█████████████▍                  | 665kB 17.7MB/s eta 0:00:01\r\u001b[K     |█████████████▋                  | 675kB 17.7MB/s eta 0:00:01\r\u001b[K     |█████████████▊                  | 686kB 17.7MB/s eta 0:00:01\r\u001b[K     |██████████████                  | 696kB 17.7MB/s eta 0:00:01\r\u001b[K     |██████████████▏                 | 706kB 17.7MB/s eta 0:00:01\r\u001b[K     |██████████████▍                 | 716kB 17.7MB/s eta 0:00:01\r\u001b[K     |██████████████▋                 | 727kB 17.7MB/s eta 0:00:01\r\u001b[K     |██████████████▉                 | 737kB 17.7MB/s eta 0:00:01\r\u001b[K     |███████████████                 | 747kB 17.7MB/s eta 0:00:01\r\u001b[K     |███████████████▏                | 757kB 17.7MB/s eta 0:00:01\r\u001b[K     |███████████████▍                | 768kB 17.7MB/s eta 0:00:01\r\u001b[K     |███████████████▋                | 778kB 17.7MB/s eta 0:00:01\r\u001b[K     |███████████████▉                | 788kB 17.7MB/s eta 0:00:01\r\u001b[K     |████████████████                | 798kB 17.7MB/s eta 0:00:01\r\u001b[K     |████████████████▎               | 808kB 17.7MB/s eta 0:00:01\r\u001b[K     |████████████████▌               | 819kB 17.7MB/s eta 0:00:01\r\u001b[K     |████████████████▋               | 829kB 17.7MB/s eta 0:00:01\r\u001b[K     |████████████████▉               | 839kB 17.7MB/s eta 0:00:01\r\u001b[K     |█████████████████               | 849kB 17.7MB/s eta 0:00:01\r\u001b[K     |█████████████████▎              | 860kB 17.7MB/s eta 0:00:01\r\u001b[K     |█████████████████▌              | 870kB 17.7MB/s eta 0:00:01\r\u001b[K     |█████████████████▊              | 880kB 17.7MB/s eta 0:00:01\r\u001b[K     |██████████████████              | 890kB 17.7MB/s eta 0:00:01\r\u001b[K     |██████████████████              | 901kB 17.7MB/s eta 0:00:01\r\u001b[K     |██████████████████▎             | 911kB 17.7MB/s eta 0:00:01\r\u001b[K     |██████████████████▌             | 921kB 17.7MB/s eta 0:00:01\r\u001b[K     |██████████████████▊             | 931kB 17.7MB/s eta 0:00:01\r\u001b[K     |███████████████████             | 942kB 17.7MB/s eta 0:00:01\r\u001b[K     |███████████████████▏            | 952kB 17.7MB/s eta 0:00:01\r\u001b[K     |███████████████████▎            | 962kB 17.7MB/s eta 0:00:01\r\u001b[K     |███████████████████▌            | 972kB 17.7MB/s eta 0:00:01\r\u001b[K     |███████████████████▊            | 983kB 17.7MB/s eta 0:00:01\r\u001b[K     |████████████████████            | 993kB 17.7MB/s eta 0:00:01\r\u001b[K     |████████████████████▏           | 1.0MB 17.7MB/s eta 0:00:01\r\u001b[K     |████████████████████▍           | 1.0MB 17.7MB/s eta 0:00:01\r\u001b[K     |████████████████████▋           | 1.0MB 17.7MB/s eta 0:00:01\r\u001b[K     |████████████████████▊           | 1.0MB 17.7MB/s eta 0:00:01\r\u001b[K     |█████████████████████           | 1.0MB 17.7MB/s eta 0:00:01\r\u001b[K     |█████████████████████▏          | 1.1MB 17.7MB/s eta 0:00:01\r\u001b[K     |█████████████████████▍          | 1.1MB 17.7MB/s eta 0:00:01\r\u001b[K     |█████████████████████▋          | 1.1MB 17.7MB/s eta 0:00:01\r\u001b[K     |█████████████████████▉          | 1.1MB 17.7MB/s eta 0:00:01\r\u001b[K     |██████████████████████          | 1.1MB 17.7MB/s eta 0:00:01\r\u001b[K     |██████████████████████▏         | 1.1MB 17.7MB/s eta 0:00:01\r\u001b[K     |██████████████████████▍         | 1.1MB 17.7MB/s eta 0:00:01\r\u001b[K     |██████████████████████▋         | 1.1MB 17.7MB/s eta 0:00:01\r\u001b[K     |██████████████████████▉         | 1.1MB 17.7MB/s eta 0:00:01\r\u001b[K     |███████████████████████         | 1.1MB 17.7MB/s eta 0:00:01\r\u001b[K     |███████████████████████▎        | 1.2MB 17.7MB/s eta 0:00:01\r\u001b[K     |███████████████████████▍        | 1.2MB 17.7MB/s eta 0:00:01\r\u001b[K     |███████████████████████▋        | 1.2MB 17.7MB/s eta 0:00:01\r\u001b[K     |███████████████████████▉        | 1.2MB 17.7MB/s eta 0:00:01\r\u001b[K     |████████████████████████        | 1.2MB 17.7MB/s eta 0:00:01\r\u001b[K     |████████████████████████▎       | 1.2MB 17.7MB/s eta 0:00:01\r\u001b[K     |████████████████████████▌       | 1.2MB 17.7MB/s eta 0:00:01\r\u001b[K     |████████████████████████▊       | 1.2MB 17.7MB/s eta 0:00:01\r\u001b[K     |████████████████████████▉       | 1.2MB 17.7MB/s eta 0:00:01\r\u001b[K     |█████████████████████████       | 1.2MB 17.7MB/s eta 0:00:01\r\u001b[K     |█████████████████████████▎      | 1.3MB 17.7MB/s eta 0:00:01\r\u001b[K     |█████████████████████████▌      | 1.3MB 17.7MB/s eta 0:00:01\r\u001b[K     |█████████████████████████▊      | 1.3MB 17.7MB/s eta 0:00:01\r\u001b[K     |██████████████████████████      | 1.3MB 17.7MB/s eta 0:00:01\r\u001b[K     |██████████████████████████▏     | 1.3MB 17.7MB/s eta 0:00:01\r\u001b[K     |██████████████████████████▎     | 1.3MB 17.7MB/s eta 0:00:01\r\u001b[K     |██████████████████████████▌     | 1.3MB 17.7MB/s eta 0:00:01\r\u001b[K     |██████████████████████████▊     | 1.3MB 17.7MB/s eta 0:00:01\r\u001b[K     |███████████████████████████     | 1.3MB 17.7MB/s eta 0:00:01\r\u001b[K     |███████████████████████████▏    | 1.4MB 17.7MB/s eta 0:00:01\r\u001b[K     |███████████████████████████▍    | 1.4MB 17.7MB/s eta 0:00:01\r\u001b[K     |███████████████████████████▌    | 1.4MB 17.7MB/s eta 0:00:01\r\u001b[K     |███████████████████████████▊    | 1.4MB 17.7MB/s eta 0:00:01\r\u001b[K     |████████████████████████████    | 1.4MB 17.7MB/s eta 0:00:01\r\u001b[K     |████████████████████████████▏   | 1.4MB 17.7MB/s eta 0:00:01\r\u001b[K     |████████████████████████████▍   | 1.4MB 17.7MB/s eta 0:00:01\r\u001b[K     |████████████████████████████▋   | 1.4MB 17.7MB/s eta 0:00:01\r\u001b[K     |████████████████████████████▉   | 1.4MB 17.7MB/s eta 0:00:01\r\u001b[K     |█████████████████████████████   | 1.4MB 17.7MB/s eta 0:00:01\r\u001b[K     |█████████████████████████████▏  | 1.5MB 17.7MB/s eta 0:00:01\r\u001b[K     |█████████████████████████████▍  | 1.5MB 17.7MB/s eta 0:00:01\r\u001b[K     |█████████████████████████████▋  | 1.5MB 17.7MB/s eta 0:00:01\r\u001b[K     |█████████████████████████████▉  | 1.5MB 17.7MB/s eta 0:00:01\r\u001b[K     |██████████████████████████████  | 1.5MB 17.7MB/s eta 0:00:01\r\u001b[K     |██████████████████████████████▎ | 1.5MB 17.7MB/s eta 0:00:01\r\u001b[K     |██████████████████████████████▍ | 1.5MB 17.7MB/s eta 0:00:01\r\u001b[K     |██████████████████████████████▋ | 1.5MB 17.7MB/s eta 0:00:01\r\u001b[K     |██████████████████████████████▉ | 1.5MB 17.7MB/s eta 0:00:01\r\u001b[K     |███████████████████████████████ | 1.5MB 17.7MB/s eta 0:00:01\r\u001b[K     |███████████████████████████████▎| 1.6MB 17.7MB/s eta 0:00:01\r\u001b[K     |███████████████████████████████▌| 1.6MB 17.7MB/s eta 0:00:01\r\u001b[K     |███████████████████████████████▊| 1.6MB 17.7MB/s eta 0:00:01\r\u001b[K     |███████████████████████████████▉| 1.6MB 17.7MB/s eta 0:00:01\r\u001b[K     |████████████████████████████████| 1.6MB 17.7MB/s \n",
            "\u001b[?25hRequirement already satisfied: numpy in /usr/local/lib/python3.7/dist-packages (from Spatial-KWD) (1.19.5)\n",
            "Installing collected packages: Spatial-KWD\n",
            "Successfully installed Spatial-KWD-0.4.0\n"
          ],
          "name": "stdout"
        }
      ]
    },
    {
      "cell_type": "markdown",
      "metadata": {
        "id": "bCpTvmuAaPB6"
      },
      "source": [
        "# Helper functions\n",
        "With the following example, you can test the three helper functions:\n",
        " * `compareOneToOne(Coordinates, Weights, Options)`: Compute the KW distance between a pair of histograms, given in the two columns of matrix `Weights`.\n",
        " * `compareOneToMany(Coordinates, Weights, Options)`: Compute the KW distance between a reference histogram (first column in `Weights`) and a set of other histograms (remaining columns of `Weights`).\n",
        " * `compareAll(Coordinates, Weights, Options)`: Compute the KW distance between all histograms in `Weights`.\n",
        " * `focusArea(Coordinates, Weights, x, y, radius, Options)`: Compute the KW distance between a pair of histograms, but restring the focus on the area centered at $(x,y)$ of given $radius$.\n",
        "\n",
        "The following snippet shows an example of usage of the first three functions on random data."
      ]
    },
    {
      "cell_type": "code",
      "metadata": {
        "id": "AJISsAHDZ-mB",
        "outputId": "1af9799a-f245-4912-9612-7cf61edc13c3",
        "colab": {
          "base_uri": "https://localhost:8080/"
        }
      },
      "source": [
        "import numpy as np\n",
        "# Import helper functions from S-KWD\n",
        "from KWD import compareOneToOne, compareOneToMany, compareAll, focusArea\n",
        "\n",
        "np.random.seed(13)\n",
        "\n",
        "N = 100\n",
        "M = 3\n",
        "\n",
        "# Random data\n",
        "Coordinates = np.random.randint(0, 32, size=(N, 2), dtype=np.int32)\n",
        "Weights = np.random.uniform(0, 100, size=(N, 2))\n",
        "\n",
        "# Testing helper functions\n",
        "print('-----------------------------\\nTest one2one approx:')\n",
        "Options = {}\n",
        "sol = compareOneToOne(Coordinates, Weights, Options)\n",
        "for k in sol:\n",
        "    print(k, sol[k])\n",
        "print()\n",
        "\n",
        "print('-----------------------------\\nTest one2one exact:')\n",
        "Options = {'Method': 'exact' }\n",
        "sol = compareOneToOne(Coordinates, Weights, Options)\n",
        "for k in sol:\n",
        "    print(k, sol[k])\n",
        "print()\n",
        "\n",
        "print('-----------------------------\\nTest one2many approx:')\n",
        "Weights = np.random.uniform(0, 100, size=(N, M))\n",
        "Options = {}\n",
        "sol = compareOneToMany(Coordinates, Weights, Options)\n",
        "for k in sol:\n",
        "    print(k, sol[k])\n",
        "print()\n",
        "\n",
        "print('-----------------------------\\nTest all approx:')\n",
        "Weights = np.random.uniform(0, 100, size=(N, M))\n",
        "Options = {}\n",
        "sol = compareAll(Coordinates, Weights, Options)\n",
        "for k in sol:\n",
        "    print(k, sol[k])"
      ],
      "execution_count": 2,
      "outputs": [
        {
          "output_type": "stream",
          "text": [
            "-----------------------------\n",
            "Test one2one approx:\n",
            "Options | Method: b'approx', Model: b'mincostflow', Algorithm: b'colgen', L=3, Recode: b'True'\n",
            "distance 1.840876575173701\n",
            "runtime 0.006\n",
            "iterations 3195\n",
            "nodes 903\n",
            "arcs 1354\n",
            "status b'Optimal'\n",
            "\n",
            "-----------------------------\n",
            "Test one2one exact:\n",
            "Options | Method: b'exact', Model: b'mincostflow', Algorithm: b'colgen', L=3, Recode: b'True'\n",
            "distance 1.8344913750044964\n",
            "runtime 0.125\n",
            "iterations 3481\n",
            "nodes 903\n",
            "arcs 1797\n",
            "status b'Optimal'\n",
            "\n",
            "-----------------------------\n",
            "Test one2many approx:\n",
            "Options | Method: b'approx', Model: b'mincostflow', Algorithm: b'colgen', L=3, Recode: b'True'\n",
            "distance [1.2193191835986508, 2.173792762316922]\n",
            "runtime 0.011381200000000001\n",
            "iterations 6560\n",
            "nodes 903\n",
            "arcs 1350\n",
            "status b'Optimal'\n",
            "\n",
            "-----------------------------\n",
            "Test all approx:\n",
            "Options | Method: b'approx', Model: b'mincostflow', Algorithm: b'colgen', L=3, Recode: b'True'\n",
            "distance [[0.         1.48618858 2.02683115]\n",
            " [1.48618858 0.         1.48248161]\n",
            " [2.02683115 1.48248161 0.        ]]\n",
            "runtime 0.01570179\n",
            "iterations 10009\n",
            "nodes 903\n",
            "arcs 1388\n",
            "status b'Optimal'\n"
          ],
          "name": "stdout"
        }
      ]
    },
    {
      "cell_type": "markdown",
      "metadata": {
        "id": "PEyCAmXo1u86"
      },
      "source": [
        "### References\n",
        "\n",
        "[1] Bassetti F., Gualandi S., Veneroni M. (2018): [**On the computation of Kantorovich-Wasserstein distances between 2D-histograms by uncapacitated minimum cost flows**](https://epubs.siam.org/doi/abs/10.1137/19M1261195). SIAM J. Optim., 30(3), 2441–2469, 2020. Preprint on arXiv: [1804.00445](https://arxiv.org/abs/1804.00445)."
      ]
    }
  ]
}