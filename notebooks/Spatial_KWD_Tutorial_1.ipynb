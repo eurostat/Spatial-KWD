{
  "nbformat": 4,
  "nbformat_minor": 0,
  "metadata": {
    "colab": {
      "name": "Spatial-KWD_Tutorial_1.ipynb",
      "provenance": []
    },
    "kernelspec": {
      "name": "python3",
      "display_name": "Python 3"
    }
  },
  "cells": [
    {
      "cell_type": "markdown",
      "metadata": {
        "id": "FYRJWGhMhTDa"
      },
      "source": [
        "# Introduction: Testing the Spatial-KWD library\n",
        "In this notebook, we present a short tutorial on the use of the python wrapper for the **Spatial-KWD** software library.\n",
        "\n",
        "The goal of this notebook is to show how to use Spatial-KWD to compute the distance between pairs of 2-dimensional histograms.\n",
        "\n",
        "The only requirements for running this notebook are:\n",
        "\n",
        "1.   A recent version of [Cython](https://cython.org/) (>= v0.23) installed on your PC.\n",
        "2.   To Download the source code of the Spatial-KWD python wrapper from [EUROSTAT public repository](https://github.com/eurostat/Spatial-KWD/tree/main/wrappers/python).\n",
        "\n",
        "\n",
        "\n"
      ]
    },
    {
      "cell_type": "code",
      "metadata": {
        "id": "V7Inhh5vp91E"
      },
      "source": [
        "import shutil\n",
        "import sys\n",
        "\n",
        "# Install Cython\n",
        "if not shutil.which(\"cython\"):\n",
        "  !pip install -q cython\n",
        "  assert(shutil.which(\"cython\"))\n",
        "\n",
        "# Get the Spatial-KWD source files\n",
        "if \"google.colab\" in sys.modules:\n",
        "  !wget -N -q \"https://github.com/eurostat/Spatial-KWD/archive/v0.1.5-alpha.tar.gz\"\n",
        "  !tar -zxf v0.1.5-alpha.tar.gz"
      ],
      "execution_count": null,
      "outputs": []
    },
    {
      "cell_type": "code",
      "metadata": {
        "id": "_--hiPt9YpGI"
      },
      "source": [
        "%cd Spatial-KWD-0.1.5-alpha/wrappers/python\r\n",
        "!ls "
      ],
      "execution_count": null,
      "outputs": []
    },
    {
      "cell_type": "markdown",
      "metadata": {
        "id": "sLCwnwOhtmfn"
      },
      "source": [
        "Once you have the requirements ready, you can compile the library, with the following command"
      ]
    },
    {
      "cell_type": "code",
      "metadata": {
        "id": "UIH_6yeMtsoQ"
      },
      "source": [
        "!python setup.py build_ext --inplace"
      ],
      "execution_count": null,
      "outputs": []
    },
    {
      "cell_type": "markdown",
      "metadata": {
        "id": "bCpTvmuAaPB6"
      },
      "source": [
        "# Helper functions\r\n",
        "With the following example you can test the three helper functions:\r\n",
        " * `compareOneToOne(Coordinates, Weights, Options)`: Compute the KW distance between a pair of histograms, given in the two columns of matrix `Weights`.\r\n",
        " * `compareOneToMany(Coordinates, Weights, Options)`: Compute the KW distance between a reference histogram (first column in `Weights`) and a set of other histograms (remaining columns of `Weights`).\r\n",
        " * `compareAll(Coordinates, Weights, Options)`: Compute the KW distance between all histograms in `Weights`."
      ]
    },
    {
      "cell_type": "code",
      "metadata": {
        "id": "AJISsAHDZ-mB"
      },
      "source": [
        "import numpy as np\r\n",
        "# Import helper functions from S-KWD\r\n",
        "from KWD import compareOneToOne, compareOneToMany, compareAll\r\n",
        "\r\n",
        "np.random.seed(13)\r\n",
        "\r\n",
        "N = 100\r\n",
        "M = 3\r\n",
        "\r\n",
        "# Random data\r\n",
        "Coordinates = np.random.randint(0, 32, size=(N, 2), dtype=np.int32)\r\n",
        "Weights = np.random.uniform(0, 100, size=(N, 2))\r\n",
        "\r\n",
        "# Testing helper functions\r\n",
        "print('-----------------------------\\nTest one2one approx:')\r\n",
        "Options = {}\r\n",
        "sol = compareOneToOne(Coordinates, Weights, Options)\r\n",
        "for k in sol:\r\n",
        "    print(k, sol[k])\r\n",
        "print()\r\n",
        "\r\n",
        "print('-----------------------------\\nTest one2one exact:')\r\n",
        "Options = {'Method': 'exact' }\r\n",
        "sol = compareOneToOne(Coordinates, Weights, Options)\r\n",
        "for k in sol:\r\n",
        "    print(k, sol[k])\r\n",
        "print()\r\n",
        "\r\n",
        "print('-----------------------------\\nTest one2many approx:')\r\n",
        "Weights = np.random.uniform(0, 100, size=(N, M))\r\n",
        "Options = {}\r\n",
        "sol = compareOneToMany(Coordinates, Weights, Options)\r\n",
        "for k in sol:\r\n",
        "    print(k, sol[k])\r\n",
        "print()\r\n",
        "\r\n",
        "print('-----------------------------\\nTest all approx:')\r\n",
        "Weights = np.random.uniform(0, 100, size=(N, M))\r\n",
        "Options = {}\r\n",
        "sol = compareAll(Coordinates, Weights, Options)\r\n",
        "for k in sol:\r\n",
        "    print(k, sol[k])"
      ],
      "execution_count": null,
      "outputs": []
    },
    {
      "cell_type": "markdown",
      "metadata": {
        "id": "OxxziNAtixJu"
      },
      "source": [
        "### DEPRECATED, TO BE FIXED: Histogram2D\n",
        "The Spatial-KWD library contains a main class of type `Histogram2D` that is used to store a 2-dimensional histogram.\n",
        "Note that the histogram does not need to be *rectangular*, but it can be defined by specifing the bins coordinates of the elements with a strictly positive weight.\n",
        "\n",
        "This class has three main methods:\n",
        "\n",
        "1. A standard costructor `h = Histogram2D()` \n",
        "2. A method to add a single point with positive weight: `h.add(int x, int y, double weight)`\n",
        "3. A method to *normalize* the bin weights, so that the sum of all weights is equal to 1: `h.normalize()`\n",
        "\n",
        "We now show to use this class to build three different histograms."
      ]
    },
    {
      "cell_type": "code",
      "metadata": {
        "id": "-Fdj4S7Gj0ki"
      },
      "source": [
        "from KWD import *\n",
        "\n",
        "# Define first histogram\n",
        "#a = Histogram2D()\n",
        "# Add at position (0,0) a unit of mass\n",
        "#a.add(0, 0, 1)\n",
        "# Normalize the histogram\n",
        "#a.normalize()\n",
        "\n",
        "# Define second histogram\n",
        "#b = Histogram2D()\n",
        "# Add at position (1,1) two units of mass\n",
        "#b.add(1, 1, 2)\n",
        "# Normalize the histogram\n",
        "#b.normalize()"
      ],
      "execution_count": null,
      "outputs": []
    },
    {
      "cell_type": "markdown",
      "metadata": {
        "id": "Ansds9PzuIMu"
      },
      "source": [
        "These two dummy histograms have a single bin with positive weight. The second histogram is normalized and the effect is to reduce its weight to 1.\n",
        "\n",
        "Then, we add a third histogram having three non empty bins. Please, note that we are not using a regular grid to define this histogram. You are free to position the points at any pair of integer coordinates."
      ]
    },
    {
      "cell_type": "code",
      "metadata": {
        "id": "ZqNDc5VMuDWD"
      },
      "source": [
        "# Define third histogram\n",
        "#c = Histogram2D()\n",
        "# Add at position (1,0) and (0,1) an half unit of mass\n",
        "#c.add(1, 0, 0.5)\n",
        "#c.add(0, 1, 0.5)\n",
        "# Add at position (5,5) a unit of mass\n",
        "#c.add(5, 5, 1)\n",
        "# Normalize the histogram\n",
        "#c.normalize()"
      ],
      "execution_count": null,
      "outputs": []
    },
    {
      "cell_type": "markdown",
      "metadata": {
        "id": "9pWC-fWowOUn"
      },
      "source": [
        "After normalizarion, the weights of the three bins become 0.25, 0.25, 0.5.\n",
        "\n",
        "We show in the next section how to compute the distances among these three histograms. "
      ]
    },
    {
      "cell_type": "markdown",
      "metadata": {
        "id": "A-Et7iPqysR4"
      },
      "source": [
        "### Using the Solver to compute hte KWD distances\n",
        "The Spatial-KWD library has another object called `Solver` which is used to configure the algorithm that computes the distance between a pair of histograms."
      ]
    },
    {
      "cell_type": "code",
      "metadata": {
        "id": "pXQJcldV0Y9G"
      },
      "source": [
        "# Create an instance of type Solver \n",
        "#s = Solver()"
      ],
      "execution_count": null,
      "outputs": []
    },
    {
      "cell_type": "markdown",
      "metadata": {
        "id": "pjQyXzME0puh"
      },
      "source": [
        "Finally we can compute the distance among the three histograms using the method `s.distance(Histogram2D h1, Histogram2D h1, L=3)`.\n",
        "The method distance first creates a cloud of points considering the union of non empty bins of the two histograms, second it computes the convex hull of all this cloud of points, and finally it computes the Kantorovich-Wasserstein distances between the two histograms using the algorithm described in [[1]](https://epubs.siam.org/doi/abs/10.1137/19M1261195).\n",
        "\n",
        "The third parameter `L` is used to specify the approximation quality of the algorithm, and it will be described in detail in the second tutorial on this library.\n"
      ]
    },
    {
      "cell_type": "code",
      "metadata": {
        "id": "mghApXgV0ux0"
      },
      "source": [
        "#print(\"d(a,b) =\", s.distance(a, b, 3))\n",
        "#print(\"d(a,c) =\", s.distance(a, c, 3))\n",
        "#print(\"d(b,c) =\", s.distance(b, c, 3))"
      ],
      "execution_count": null,
      "outputs": []
    },
    {
      "cell_type": "markdown",
      "metadata": {
        "id": "IrpffRlo4x_2"
      },
      "source": [
        "Please, if you have any comment on this notebook or on the Spatial-KWD you can drop me an email.\n",
        "\n",
        "The source code of the library is freely available on GitHub at [Eurostat/Spatial-KWD](https://github.com/eurostat/Spatial-KWD)."
      ]
    },
    {
      "cell_type": "markdown",
      "metadata": {
        "id": "PEyCAmXo1u86"
      },
      "source": [
        "### References\n",
        "\n",
        "[1] Bassetti F., Gualandi S., Veneroni M. (2018): [**On the computation of Kantorovich-Wasserstein distances between 2D-histograms by uncapacitated minimum cost flows**](https://epubs.siam.org/doi/abs/10.1137/19M1261195). SIAM J. Optim., 30(3), 2441–2469, 2020. Preprint on arXiv: [1804.00445](https://arxiv.org/abs/1804.00445)."
      ]
    }
  ]
}